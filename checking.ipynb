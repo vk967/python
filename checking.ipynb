{
 "cells": [
  {
   "cell_type": "code",
   "execution_count": 1,
   "id": "4e75b21c",
   "metadata": {},
   "outputs": [
    {
     "name": "stdout",
     "output_type": "stream",
     "text": [
      "6\n",
      "8\n"
     ]
    }
   ],
   "source": [
    "n=int(input())\n",
    "a=1\n",
    "b=1\n",
    "c=0\n",
    "i=3\n",
    "while(i<=n):\n",
    "    c=a+b\n",
    "    a=b\n",
    "    b=c\n",
    "    i=i+1\n",
    "print(c)"
   ]
  },
  {
   "cell_type": "code",
   "execution_count": null,
   "id": "070ad8e3",
   "metadata": {},
   "outputs": [],
   "source": [
    "n=int(input())\n",
    "i=0\n",
    "while(i<n):\n",
    "    j=1\n",
    "    while(j<n):\n",
    "        print('23',end='  ')\n",
    "        j=j+1\n",
    "    print('')\n",
    "    i=i+1"
   ]
  },
  {
   "cell_type": "code",
   "execution_count": 220,
   "id": "e04c2d30",
   "metadata": {},
   "outputs": [
    {
     "name": "stdout",
     "output_type": "stream",
     "text": [
      "5\n",
      "1\n",
      "11\n",
      "111\n",
      "1111\n",
      "11111\n"
     ]
    }
   ],
   "source": [
    "N=int(input())\n",
    "i=1\n",
    "while(i<=N):\n",
    "    j=1\n",
    "    while(j<=i):\n",
    "        print('1',end='')\n",
    "        j=j+1\n",
    "    print()\n",
    "    i=i+1"
   ]
  },
  {
   "cell_type": "code",
   "execution_count": 436,
   "id": "aad8d231",
   "metadata": {},
   "outputs": [
    {
     "name": "stdout",
     "output_type": "stream",
     "text": [
      "4\n",
      "1\n",
      "22\n",
      "333\n",
      "4444\n"
     ]
    }
   ],
   "source": [
    "n=int(input())\n",
    "i=1\n",
    "while(i<=n):\n",
    "    j=1\n",
    "    while(j<=i):\n",
    "        print(i,end='')\n",
    "        j=j+1\n",
    "    print()\n",
    "    i=i+1"
   ]
  },
  {
   "cell_type": "code",
   "execution_count": 437,
   "id": "87023bf5",
   "metadata": {},
   "outputs": [
    {
     "name": "stdout",
     "output_type": "stream",
     "text": [
      "4\n",
      "1\n",
      "23\n",
      "456\n",
      "78910\n"
     ]
    }
   ],
   "source": [
    "n=int(input())\n",
    "i=1\n",
    "p=1\n",
    "while(i<=n):\n",
    "    j=1\n",
    "    while(j<=i):\n",
    "        print(p,end='')\n",
    "        p=p+1\n",
    "        j=j+1\n",
    "    print()\n",
    "    i=i+1"
   ]
  },
  {
   "cell_type": "code",
   "execution_count": 47,
   "id": "eb47649a",
   "metadata": {},
   "outputs": [
    {
     "name": "stdout",
     "output_type": "stream",
     "text": [
      "4\n",
      "1\n",
      "21\n",
      "321\n",
      "4321\n"
     ]
    }
   ],
   "source": [
    "N=int(input())\n",
    "i=1\n",
    "while(i<=N):\n",
    "    j=1\n",
    "    while(j<=i):\n",
    "        print(i-j+1,end='')\n",
    "        j=j+1\n",
    "    print()\n",
    "    i=i+1"
   ]
  },
  {
   "cell_type": "code",
   "execution_count": 59,
   "id": "0c63f1bb",
   "metadata": {},
   "outputs": [
    {
     "name": "stdout",
     "output_type": "stream",
     "text": [
      "6\n"
     ]
    },
    {
     "data": {
      "text/plain": [
       "'F'"
      ]
     },
     "execution_count": 59,
     "metadata": {},
     "output_type": "execute_result"
    }
   ],
   "source": [
    "k=int(input())\n",
    "x=ord('A')\n",
    "asciiTarget= x+k-1\n",
    "targetchr=chr(asciiTarget)\n",
    "targetchr"
   ]
  },
  {
   "cell_type": "code",
   "execution_count": 63,
   "id": "3e1e7341",
   "metadata": {},
   "outputs": [
    {
     "name": "stdout",
     "output_type": "stream",
     "text": [
      "5\n",
      "ABCDE\n",
      "ABCDE\n",
      "ABCDE\n",
      "ABCDE\n",
      "ABCDE\n",
      "ABCDE\n"
     ]
    }
   ],
   "source": [
    "n=int(input())\n",
    "i=0\n",
    "while(i<=n):\n",
    "    j=1\n",
    "    while(j<=n):\n",
    "        charp=chr(ord('A')+j-1)\n",
    "        print(charp,end='')\n",
    "        j=j+1\n",
    "    print('')\n",
    "    i=i+1"
   ]
  },
  {
   "cell_type": "code",
   "execution_count": 64,
   "id": "32a70968",
   "metadata": {},
   "outputs": [
    {
     "name": "stdout",
     "output_type": "stream",
     "text": [
      "5\n",
      "A  B  C  D  E  \n",
      "B  C  D  E  F  \n",
      "C  D  E  F  G  \n",
      "D  E  F  G  H  \n"
     ]
    }
   ],
   "source": [
    "n=int(input())\n",
    "i=1\n",
    "while(i<n):\n",
    "    j=1\n",
    "    start_char=chr(ord('A')+i-1)\n",
    "    while(j<=n):\n",
    "        charP=chr(ord(start_char)+j-1)\n",
    "        print(charP,end='  ')\n",
    "        j=j+1\n",
    "    print('')\n",
    "    i=i+1"
   ]
  },
  {
   "cell_type": "code",
   "execution_count": 364,
   "id": "a3f1bf48",
   "metadata": {
    "scrolled": false
   },
   "outputs": [
    {
     "name": "stdout",
     "output_type": "stream",
     "text": [
      "3\n",
      "A\n",
      "BB\n",
      "CCC\n",
      "DDDD\n"
     ]
    }
   ],
   "source": [
    "n=int(input())\n",
    "i=0\n",
    "while(i<=n):\n",
    "    j=1\n",
    "    start_char=chr(ord('A')+i-1)\n",
    "    while(j<=i+1):\n",
    "        charP=chr(ord(start_char)+1)\n",
    "        print(charP,end='')\n",
    "        j=j+1\n",
    "    print('')\n",
    "    i=i+1"
   ]
  },
  {
   "cell_type": "code",
   "execution_count": null,
   "id": "51ece0f3",
   "metadata": {},
   "outputs": [],
   "source": [
    "N=int(input())\n",
    "i=1\n",
    "p=1\n",
    "while(i<=N):\n",
    "    j=1\n",
    "    while(j<=i):\n",
    "        print(i,end='')\n",
    "        j=j+1\n",
    "        p=p+1\n",
    "    print()\n",
    "    i=i+1"
   ]
  },
  {
   "cell_type": "code",
   "execution_count": 218,
   "id": "875569e1",
   "metadata": {},
   "outputs": [
    {
     "name": "stdout",
     "output_type": "stream",
     "text": [
      "5\n",
      "E\n",
      "DE\n",
      "CDE\n",
      "BCDE\n",
      "ABCDE\n"
     ]
    }
   ],
   "source": [
    "n=int(input())\n",
    "i=1\n",
    "while(i<=n):\n",
    "    j=1\n",
    "    end_char=chr(ord('A')+n-i)\n",
    "    while(j<=i):\n",
    "        charP=chr(ord(end_char)+j-1)\n",
    "        print(charP,end='')\n",
    "        j=j+1\n",
    "    print('')\n",
    "    i=i+1"
   ]
  },
  {
   "cell_type": "code",
   "execution_count": 305,
   "id": "a694897b",
   "metadata": {},
   "outputs": [
    {
     "name": "stdout",
     "output_type": "stream",
     "text": [
      "4\n",
      "10\n",
      "10200\n",
      "102003000\n",
      "10200300040000\n"
     ]
    }
   ],
   "source": [
    "N=int(input())\n",
    "i=1\n",
    "while(i<=N):\n",
    "    j=1\n",
    "    while(j<=i):\n",
    "        print(j,end='')\n",
    "        c=1\n",
    "        while c<=j:\n",
    "            print(0,end=\"\")\n",
    "            c+=1\n",
    "        j=j+1\n",
    "    print()\n",
    "    i=i+1"
   ]
  },
  {
   "cell_type": "code",
   "execution_count": 273,
   "id": "f7e94b41",
   "metadata": {},
   "outputs": [
    {
     "name": "stdout",
     "output_type": "stream",
     "text": [
      "4\n",
      "1\n",
      "11\n",
      "202\n",
      "3003\n"
     ]
    }
   ],
   "source": [
    "n=int(input())\n",
    "\n",
    "v=1\n",
    "count=0\n",
    "\n",
    "print(1)\n",
    "\n",
    "for i in range(n-1):\n",
    "    \n",
    "    print(v,end=\"\")\n",
    "    \n",
    "    for j in range(count):print(0,end=\"\")\n",
    "    \n",
    "    print(v,end=\"\")\n",
    "    \n",
    "    v+=1\n",
    "    count+=1\n",
    "    \n",
    "    print()"
   ]
  },
  {
   "cell_type": "code",
   "execution_count": 308,
   "id": "5f4a9aaa",
   "metadata": {},
   "outputs": [
    {
     "name": "stdout",
     "output_type": "stream",
     "text": [
      "4\n",
      "1\n",
      "11\n",
      "202\n",
      "3003\n"
     ]
    }
   ],
   "source": [
    "## Read input as specified in the question.\n",
    "## Print output as specified in the question.\n",
    "n=int(input())\n",
    "\n",
    "v=1\n",
    "count=0\n",
    "\n",
    "print(1)\n",
    "no=1 #no. of lines\n",
    "while no<n :\n",
    "    \n",
    "    print(v,end=\"\")\n",
    "    \n",
    "    c=1\n",
    "    while c<=count:\n",
    "        print(0,end=\"\")\n",
    "        c+=1\n",
    "    \n",
    "    print(v,end=\"\")\n",
    "    \n",
    "    v+=1# v=v+1\n",
    "    count+=1\n",
    "    no+=1\n",
    "    \n",
    "    print()"
   ]
  },
  {
   "cell_type": "code",
   "execution_count": 325,
   "id": "0bf27153",
   "metadata": {},
   "outputs": [
    {
     "name": "stdout",
     "output_type": "stream",
     "text": [
      "4\n",
      "1\n",
      "11\n",
      "121\n",
      "1221\n"
     ]
    }
   ],
   "source": [
    "n=int(input())\n",
    "i=1\n",
    "while i<=n:\n",
    "    j=1\n",
    "    while j<=i:\n",
    "        if i==1:\n",
    "            print(1,end='')\n",
    "        elif j==1 or j==i:\n",
    "            print(1,end='')\n",
    "        else:\n",
    "            print(2,end='')\n",
    "        j+=1\n",
    "    i+=1\n",
    "    print()"
   ]
  },
  {
   "cell_type": "code",
   "execution_count": 385,
   "id": "ee7a85e0",
   "metadata": {},
   "outputs": [
    {
     "name": "stdout",
     "output_type": "stream",
     "text": [
      "4\n",
      "1234\n",
      "123\n",
      "12\n",
      "1\n"
     ]
    }
   ],
   "source": [
    "N=int(input())\n",
    "i=1\n",
    "while(i<=n):\n",
    "    j=1\n",
    "    while(j<=N-i+1):\n",
    "        print(j,end='')\n",
    "        j=j+1\n",
    "    print()\n",
    "    i=i+1"
   ]
  },
  {
   "cell_type": "code",
   "execution_count": 387,
   "id": "54dd47bc",
   "metadata": {},
   "outputs": [
    {
     "name": "stdout",
     "output_type": "stream",
     "text": [
      "4\n",
      "A\n",
      "BB\n",
      "CCC\n",
      "DDDD\n"
     ]
    }
   ],
   "source": [
    "## Read input as specified in the question.\n",
    "## Print output as specified in the question.\n",
    "\n",
    "n=int(input())\n",
    "i=1\n",
    "while i<=n:\n",
    "    j=1\n",
    "    while j<=i:\n",
    "        charp=chr(ord('A')+i-1)\n",
    "        print(charp,end=\"\")\n",
    "        j=j+1\n",
    "    print()    \n",
    "    i=i+1   "
   ]
  },
  {
   "cell_type": "code",
   "execution_count": 391,
   "id": "7588e921",
   "metadata": {},
   "outputs": [
    {
     "name": "stdout",
     "output_type": "stream",
     "text": [
      "4\n",
      "ABCD\n",
      "ABC\n",
      "AB\n",
      "A\n"
     ]
    }
   ],
   "source": [
    "n=int(input())\n",
    "i=1\n",
    "while i<=n:\n",
    "    j=1\n",
    "    while j<=n-i+1:\n",
    "        charp=chr(ord('A')+j-1)\n",
    "        print(charp,end=\"\")\n",
    "        j=j+1\n",
    "    print()    \n",
    "    i=i+1   "
   ]
  },
  {
   "cell_type": "code",
   "execution_count": null,
   "id": "a626e1aa",
   "metadata": {},
   "outputs": [],
   "source": [
    "N=int(input())\n",
    "i=1\n",
    "while(i<=N):\n",
    "    j=1\n",
    "    p=1\n",
    "    while(j<=i):\n",
    "        print(' ',end='')\n",
    "        j=j+1\n",
    "        p=p+1\n",
    "    print()\n",
    "    i=i+1"
   ]
  },
  {
   "cell_type": "code",
   "execution_count": null,
   "id": "ddfe76cf",
   "metadata": {},
   "outputs": [],
   "source": [
    "n=int(input())\n",
    "i=1\n",
    "while i<3:\n",
    "    j=0\n",
    "    while j<5:\n",
    "        j = j +1\n",
    "        if j==3:\n",
    "            continue\n",
    "        print(j,end='')\n",
    "    i = i +1"
   ]
  },
  {
   "cell_type": "code",
   "execution_count": 450,
   "id": "91219046",
   "metadata": {},
   "outputs": [
    {
     "name": "stdout",
     "output_type": "stream",
     "text": [
      "4\n",
      "   1\n",
      "  12\n",
      " 123\n",
      "1234\n"
     ]
    }
   ],
   "source": [
    "n=int(input())\n",
    "i=1\n",
    "while(i<=n):\n",
    "    s=1\n",
    "    while(s<=n-i):\n",
    "        print(' ',end='')\n",
    "        s=s+1\n",
    "    j=1\n",
    "    p=1\n",
    "    while(j<=i):\n",
    "        print(p,end='')\n",
    "        p=p+1\n",
    "        j=j+1\n",
    "    print()\n",
    "    i=i+1"
   ]
  },
  {
   "cell_type": "code",
   "execution_count": 455,
   "id": "5c7bfb4f",
   "metadata": {},
   "outputs": [
    {
     "name": "stdout",
     "output_type": "stream",
     "text": [
      "4\n",
      "123*\n",
      "12**1\n",
      "1***21\n",
      "****321\n"
     ]
    }
   ],
   "source": [
    "n=int(input())\n",
    "i=1\n",
    "p=1\n",
    "while(i<=n):\n",
    "    s=1\n",
    "    while(s<=n-i):\n",
    "        print(s,end='')\n",
    "        s=s+1\n",
    "    j=1\n",
    "    while(j<=i):\n",
    "        print('*',end='')\n",
    "        p=p+1\n",
    "        j=j+1\n",
    "    t=i-1\n",
    "    while(t>=1):\n",
    "        print(t,end='')\n",
    "        t=t-1\n",
    "    i=i+1\n",
    "    print()"
   ]
  },
  {
   "cell_type": "code",
   "execution_count": 467,
   "id": "916493c9",
   "metadata": {},
   "outputs": [
    {
     "name": "stdout",
     "output_type": "stream",
     "text": [
      "4\n",
      "1111\n",
      "222\n",
      "33\n",
      "4\n"
     ]
    }
   ],
   "source": [
    "n=int(input())\n",
    "i=1\n",
    "while(i<=n):\n",
    "    j=1\n",
    "    while(j<=n-i+1):\n",
    "        print(i,end='')\n",
    "        j=j+1\n",
    "    print()\n",
    "    i=i+1"
   ]
  },
  {
   "cell_type": "code",
   "execution_count": 412,
   "id": "1b7529fe",
   "metadata": {},
   "outputs": [
    {
     "name": "stdout",
     "output_type": "stream",
     "text": [
      "4\n",
      "4444\n",
      "333\n",
      "22\n",
      "1\n"
     ]
    }
   ],
   "source": [
    "n=int(input())\n",
    "i=1\n",
    "while(i<=n):\n",
    "    j=1\n",
    "    while(j<=n-i+1):\n",
    "        print(n-i+1,end='')\n",
    "        j=j+1\n",
    "    print()\n",
    "    i=i+1"
   ]
  },
  {
   "cell_type": "code",
   "execution_count": 430,
   "id": "bfdf2a15",
   "metadata": {},
   "outputs": [
    {
     "name": "stdout",
     "output_type": "stream",
     "text": [
      "4\n",
      "   1\n",
      "  121\n",
      " 12321\n",
      "1234321\n"
     ]
    }
   ],
   "source": [
    "n=int(input())\n",
    "i=1\n",
    "while(i<=n):\n",
    "    s=1\n",
    "    while(s<=n-i):\n",
    "        print(' ',end='')\n",
    "        s=s+1\n",
    "    j=1\n",
    "    p=1\n",
    "    while(j<=i):\n",
    "        print(p,end='')\n",
    "        p=p+1\n",
    "        j=j+1\n",
    "    p=i-1\n",
    "    while(p>=1):\n",
    "        print(p,end='')\n",
    "        p=p-1\n",
    "    print()\n",
    "    i=i+1"
   ]
  },
  {
   "cell_type": "code",
   "execution_count": 433,
   "id": "12a16f5d",
   "metadata": {},
   "outputs": [
    {
     "name": "stdout",
     "output_type": "stream",
     "text": [
      "4\n",
      "   1\n",
      "  12*\n",
      " 123**\n",
      "1234***\n"
     ]
    }
   ],
   "source": [
    "n=int(input())\n",
    "i=1\n",
    "while(i<=n):\n",
    "    s=1\n",
    "    while(s<=n-i):\n",
    "        print(' ',end='')\n",
    "        s=s+1\n",
    "    j=1\n",
    "    p=1\n",
    "    while(j<=i):\n",
    "        print(p,end='')\n",
    "        p=p+1\n",
    "        j=j+1\n",
    "    p=i-1\n",
    "    while(p>=1):\n",
    "        print('*',end='')\n",
    "        p=p-1\n",
    "    print()\n",
    "    i=i+1"
   ]
  },
  {
   "cell_type": "code",
   "execution_count": 434,
   "id": "31f780e4",
   "metadata": {},
   "outputs": [
    {
     "name": "stdout",
     "output_type": "stream",
     "text": [
      "4\n",
      "   *\n",
      "  ***\n",
      " *****\n",
      "*******\n"
     ]
    }
   ],
   "source": [
    "n=int(input())\n",
    "i=1\n",
    "while(i<=n):\n",
    "    s=1\n",
    "    while(s<=n-i):\n",
    "        print(' ',end='')\n",
    "        s=s+1\n",
    "    j=1\n",
    "    p=1\n",
    "    while(j<=i):\n",
    "        print('*',end='')\n",
    "        p=p+1\n",
    "        j=j+1\n",
    "    p=i-1\n",
    "    while(p>=1):\n",
    "        print('*',end='')\n",
    "        p=p-1\n",
    "    print()\n",
    "    i=i+1"
   ]
  },
  {
   "cell_type": "code",
   "execution_count": 456,
   "id": "a6eb0d73",
   "metadata": {},
   "outputs": [
    {
     "name": "stdout",
     "output_type": "stream",
     "text": [
      "4\n",
      "   1\n",
      "  232\n",
      " 34543\n",
      "4567654\n"
     ]
    }
   ],
   "source": [
    "n = int(input())\n",
    "i = 1\n",
    "while i <= n:\n",
    "    spaces = 1\n",
    "    while spaces <= (n - i) :\n",
    "        print(\" \", end = \"\")\n",
    "        spaces += 1\n",
    "    j = 1\n",
    "    valToPrint = i\n",
    "    while j <= i :\n",
    "        print(valToPrint, end = \"\")\n",
    "        valToPrint += 1\n",
    "        j += 1\n",
    "    j = 1\n",
    "    valToPrint = 2 * i - 2 \n",
    "    while j <= i - 1 :\n",
    "        print(valToPrint, end = \"\")\n",
    "        valToPrint -= 1\n",
    "        j += 1 \n",
    "    print()\n",
    "    i += 1"
   ]
  },
  {
   "cell_type": "code",
   "execution_count": null,
   "id": "d5dc33f6",
   "metadata": {},
   "outputs": [],
   "source": [
    "n = int(input())\n",
    "r1 = n//2 + 1\n",
    "r2 = n//2\n",
    "row = 1\n",
    "while row <= r1:\n",
    "    space = 1\n",
    "    while space <= r1-row:\n",
    "        print(' ', end = '')\n",
    "        space = space + 1\n",
    "    stars = 1\n",
    "    while stars <= 2*row-1:\n",
    "        print('*', end = '')\n",
    "        stars = stars + 1\n",
    "    print()\n",
    "    row = row + 1\n",
    "\n",
    "row = 1\n",
    "while row <= r2:\n",
    "    space = 1\n",
    "    while space <= row:\n",
    "        print(' ', end = '')\n",
    "        space = space + 1\n",
    "    stars = 1\n",
    "    while stars <= 2*(r2-row)+1:\n",
    "        print('*', end = '')\n",
    "        stars = stars + 1\n",
    "    print()\n",
    "    row = row + 1"
   ]
  },
  {
   "cell_type": "code",
   "execution_count": 1,
   "id": "f3465880",
   "metadata": {},
   "outputs": [
    {
     "name": "stdout",
     "output_type": "stream",
     "text": [
      "4\n",
      "1\n",
      "12\n",
      "123\n",
      "1234\n",
      "5\n"
     ]
    }
   ],
   "source": [
    "N=int(input())\n",
    "i=1\n",
    "while(i<=N):\n",
    "    j=1\n",
    "    p=1\n",
    "    while(j<=i):\n",
    "        print(j,end='')\n",
    "        j=j+1\n",
    "        p=p+1\n",
    "    print()\n",
    "    i=i+1\n",
    "n=int(input())\n",
    "i=1\n",
    "while(i>=n):\n",
    "    s=1\n",
    "    while(s<=n-i):\n",
    "        print(' ',end='')\n",
    "        s=s+1\n",
    "        j=1\n",
    "        p=1\n",
    "        while(j<=i):\n",
    "            print(p,end='')\n",
    "            p=p+1\n",
    "            j=j+1\n",
    "    print()\n",
    "    i=i+1"
   ]
  },
  {
   "cell_type": "code",
   "execution_count": null,
   "id": "92df5710",
   "metadata": {},
   "outputs": [],
   "source": [
    "n=int(input())\n",
    "i=1\n",
    "while(i<=n):\n",
    "    space=1\n",
    "    while(space<=n-i):\n",
    "        print(' ',end='')\n",
    "        space+=1\n",
    "    j=1\n",
    "    while(j<=i):\n",
    "        print(j,end='')\n",
    "        j+=1\n",
    "    print()\n",
    "    j=1\n",
    "    p=1\n",
    "    while(j<=i):\n",
    "        print(p,end='')\n",
    "        p+=1\n",
    "        j+=1\n",
    "    print()\n",
    "    i+=1\n",
    "        "
   ]
  },
  {
   "cell_type": "code",
   "execution_count": null,
   "id": "a5c599ad",
   "metadata": {},
   "outputs": [],
   "source": [
    "n = int(input())\n",
    "i = 1\n",
    "spaces = 2*n-2\n",
    "while i <= n:\n",
    "    # first part \n",
    "    j = 1\n",
    "    while j <= i:\n",
    "        print(j, end=\"\")\n",
    "        j += 1\n",
    "    # second part for spaces see for n = 5 there were 8 spaces in first line \n",
    "    # so we can write logic 2*n-2 right or for simplicity we can use a varible \n",
    "    # spces joh store krega kitne spaces print krne hei so for that\n",
    "    j = 1\n",
    "    while j <= spaces:\n",
    "        print(\" \", end=\"\")\n",
    "        j += 1\n",
    "    # for third part now\n",
    "    j = i\n",
    "    while j >= 1:\n",
    "        print(j, end=\"\")\n",
    "        j -=1\n",
    "    print()\n",
    "    spaces -= 2 # this is beacuse after each line the number of spaces are decreasing by 2\n",
    "    i += 1"
   ]
  }
 ],
 "metadata": {
  "kernelspec": {
   "display_name": "Python 3",
   "language": "python",
   "name": "python3"
  },
  "language_info": {
   "codemirror_mode": {
    "name": "ipython",
    "version": 3
   },
   "file_extension": ".py",
   "mimetype": "text/x-python",
   "name": "python",
   "nbconvert_exporter": "python",
   "pygments_lexer": "ipython3",
   "version": "3.8.8"
  }
 },
 "nbformat": 4,
 "nbformat_minor": 5
}
